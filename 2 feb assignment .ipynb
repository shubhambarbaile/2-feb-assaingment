{
 "cells": [
  {
   "cell_type": "code",
   "execution_count": 1,
   "id": "8fbf8650-7a05-467b-81cd-bb054b5e6a82",
   "metadata": {},
   "outputs": [
    {
     "name": "stdout",
     "output_type": "stream",
     "text": [
      "1\n",
      "2\n",
      "3\n",
      "4\n",
      "5\n",
      "6\n",
      "7\n",
      "8\n",
      "9\n",
      "10\n"
     ]
    }
   ],
   "source": [
    "#1 when to use for loop \n",
    "# for loops are used when you have a block of code which you want to repeat a fixed number of times\n",
    "# example of the for loop \n",
    "a =0\n",
    "for a in range(10):\n",
    "    a= a+1\n",
    "    print(a)\n",
    "\n"
   ]
  },
  {
   "cell_type": "code",
   "execution_count": 1,
   "id": "337b7f90-9a0f-4608-9eba-5370bbce721d",
   "metadata": {},
   "outputs": [
    {
     "name": "stdout",
     "output_type": "stream",
     "text": [
      "0\n",
      "1\n",
      "4\n",
      "9\n",
      "16\n",
      "25\n",
      "36\n",
      "49\n",
      "64\n",
      "81\n"
     ]
    }
   ],
   "source": [
    "# when to use while loop \n",
    "# while loop is used to run a block code until a certain condition is met.\n",
    "# while loop example \n",
    "i = 0\n",
    "while i <10:\n",
    "    print(i**2)\n",
    "    i = i+1\n",
    "    \n",
    "\n"
   ]
  },
  {
   "cell_type": "code",
   "execution_count": null,
   "id": "4ec89e21-8752-4178-a1c4-b16a48838f71",
   "metadata": {},
   "outputs": [],
   "source": [
    "#2 sum y using for loop \n",
    "n = 0 \n",
    "for i in range(0,11):\n",
    "    n = n +i\n",
    "    print(n)\n"
   ]
  },
  {
   "cell_type": "code",
   "execution_count": null,
   "id": "1c4cd9c7-b3b5-40a9-99f4-89dbe085a6ff",
   "metadata": {},
   "outputs": [],
   "source": [
    "# product using for loop \n",
    "n = 1\n",
    "i = 0 \n",
    "for i  in range(0,11)|:\n",
    "    i = i*n\n",
    "    n = n + 1\n",
    "    print(i)"
   ]
  },
  {
   "cell_type": "code",
   "execution_count": null,
   "id": "aa350dd5-87ab-4080-a169-91332022c8d9",
   "metadata": {},
   "outputs": [],
   "source": [
    "# Sum by using while loop \n",
    "n = 0\n",
    "i = 0 \n",
    "while i <=10:\n",
    "    n = n +i\n",
    "    print(n)\n",
    "    i = i+1"
   ]
  },
  {
   "cell_type": "code",
   "execution_count": 2,
   "id": "f71e7cf7-5d20-4a5e-895d-9a126e3a5e8a",
   "metadata": {},
   "outputs": [
    {
     "name": "stdout",
     "output_type": "stream",
     "text": [
      "0\n",
      "2\n",
      "6\n",
      "12\n",
      "20\n",
      "30\n",
      "42\n",
      "56\n",
      "72\n",
      "90\n",
      "110\n"
     ]
    }
   ],
   "source": [
    "# product by using while loop \n",
    "n = 1\n",
    "i = 0 \n",
    "while i<=10:\n",
    "    print(n*i)\n",
    "    n = n+1\n",
    "    i = i+1\n",
    "    "
   ]
  },
  {
   "cell_type": "code",
   "execution_count": 11,
   "id": "e0f78ee6-a275-4810-b90a-8a619621e5f6",
   "metadata": {},
   "outputs": [
    {
     "name": "stdin",
     "output_type": "stream",
     "text": [
      "the number of units 310\n"
     ]
    },
    {
     "name": "stdout",
     "output_type": "stream",
     "text": [
      "2250.0\n"
     ]
    }
   ],
   "source": [
    "#the per-unit charges in rupees are as follows: For the first 100 units, the user will be charged Rs. 4.5 per \n",
    "#unit, for the next 100 units, the user will be charged Rs. 6 per unit, and for the next 100 units, the user will \n",
    "#be charged Rs. 10 per unit, After 300 units and above the user will be charged Rs. 20 per unit.\n",
    "# Your program must pass this test case: when the unit of electricity consumed by the user in a month is \n",
    "#310, the total electricity bill should be225000\n",
    "unit = int(input(\"the number of units\"))\n",
    "if unit <=100:\n",
    "    print(unit*4.5)\n",
    "elif 100< unit <=200:\n",
    "    print(100*4.5+(unit-100)*6)\n",
    "elif 200<unit<=300:\n",
    "    print(100*4.5+100*6+(unit-200)*10)\n",
    "else:\n",
    "    print(100*4.5+100*6+100*10+(unit-300)*20)\n",
    "    \n",
    "\n"
   ]
  },
  {
   "cell_type": "code",
   "execution_count": 37,
   "id": "b972500c-7c06-4b8d-92d5-93da00b9b931",
   "metadata": {},
   "outputs": [
    {
     "name": "stdout",
     "output_type": "stream",
     "text": [
      "[8, 64, 125, 216, 512, 1000, 1728, 2744, 3375, 4096, 5832, 8000, 10648, 13824, 15625, 17576, 21952, 27000, 32768, 39304, 42875, 46656, 54872, 64000, 74088, 85184, 91125, 97336, 110592, 125000, 140608, 157464, 166375, 175616, 195112, 216000, 238328, 262144, 274625, 287496, 314432, 343000, 373248, 405224, 421875, 438976, 474552, 512000, 551368, 592704, 614125, 636056, 681472, 729000, 778688, 830584, 857375, 884736, 941192, 1000000]\n"
     ]
    }
   ],
   "source": [
    "a= list(range(1,101))\n",
    "b =[]\n",
    "s = []\n",
    "for i in a:\n",
    "        c = i**3\n",
    "        i = i+1\n",
    "        b.append(c)\n",
    "for i in b:\n",
    "    if i%4 == 0 or i%5==0:\n",
    "        s.append(i)\n",
    "        i = i +1\n",
    "print(s)\n"
   ]
  },
  {
   "cell_type": "code",
   "execution_count": 53,
   "id": "4339e8ad-c505-49c6-987a-4c1951cb018f",
   "metadata": {},
   "outputs": [
    {
     "name": "stdout",
     "output_type": "stream",
     "text": [
      "['o', 'e', 'o', 'e', 'e']\n"
     ]
    }
   ],
   "source": [
    "a = \"i want to become data scienist\"\n",
    "b =[]\n",
    "for i in a:\n",
    "    if i ==' a' or i == 'e' or i == 'o' or i == 'u' or i ==:\n",
    "        b.append(i)\n",
    "print(b)"
   ]
  },
  {
   "cell_type": "code",
   "execution_count": null,
   "id": "72b929f9-9168-4763-8d67-25bd720c2ddf",
   "metadata": {},
   "outputs": [],
   "source": []
  }
 ],
 "metadata": {
  "kernelspec": {
   "display_name": "Python 3 (ipykernel)",
   "language": "python",
   "name": "python3"
  },
  "language_info": {
   "codemirror_mode": {
    "name": "ipython",
    "version": 3
   },
   "file_extension": ".py",
   "mimetype": "text/x-python",
   "name": "python",
   "nbconvert_exporter": "python",
   "pygments_lexer": "ipython3",
   "version": "3.10.8"
  }
 },
 "nbformat": 4,
 "nbformat_minor": 5
}
